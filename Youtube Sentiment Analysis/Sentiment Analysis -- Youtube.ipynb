{
 "cells": [
  {
   "cell_type": "code",
   "execution_count": null,
   "id": "1f6d5441",
   "metadata": {},
   "outputs": [],
   "source": [
    "import time\n",
    "from selenium import webdriver\n",
    "from selenium.webdriver import Chrome \n",
    "from selenium.webdriver.common.by import By \n",
    "from selenium.webdriver.common.keys import Keys \n",
    "from selenium.webdriver.support.ui import WebDriverWait\n",
    "from selenium.webdriver.support import expected_conditions as EC\n",
    "from webdriver_manager.chrome import ChromeDriverManager\n",
    "\n"
   ]
  },
  {
   "cell_type": "code",
   "execution_count": null,
   "id": "88cfb225",
   "metadata": {},
   "outputs": [],
   "source": [
    "def ScrapComments(path):\n",
    "  authors = []                                                                                                                                                                                                                                                                                                                                                                                                                                                                                                                                                                                                                                                                                                                                                                                           \n",
    "  try:\n",
    "        \n",
    "    driver = webdriver.Chrome(ChromeDriverManager().install())\n",
    "    driver.get(path)\n",
    "    wait = WebDriverWait(driver,15)\n",
    "    \n",
    "    \n",
    "    # Expanding Comments 6 times to load atleast 100 comments\n",
    "    for item in range(6):\n",
    "      wait.until(EC.visibility_of_element_located((By.TAG_NAME,\"body\"))).send_keys(Keys.END)\n",
    "      time.sleep(5)\n",
    "    \n",
    "    # Scrapping all the comments and their author\n",
    "    for author in wait.until(EC.presence_of_all_elements_located((By.CLASS_NAME,\"style-scope ytd-comment-renderer\"))):\n",
    "      authors.append(author.text)\n",
    "    \n",
    "  except Exception as e:\n",
    "    print(e)\n",
    "  return authors\n",
    "\n",
    "path = \"https://www.youtube.com/watch?v=621oD2zBSbI\"\n",
    "data = ScrapComments(path)\n",
    "data\n"
   ]
  },
  {
   "cell_type": "code",
   "execution_count": null,
   "id": "0fb9e250",
   "metadata": {},
   "outputs": [],
   "source": [
    "import re\n",
    "import pandas as pd\n",
    "def create_df_author_comments1(data):\n",
    "  author_comment = []\n",
    "  author=[]\n",
    "  for item in data:\n",
    "    s = re.sub('\\\\n[0-9]+ (days|weeks|months|years|week|month|year|hours|hour|day|minutes|minute) ago' ,'',item)\n",
    "    s = re.sub('\\\\nREPLY','',s)\n",
    "    s = re.sub('\\.\\\\n[0-9][\\.]*[0-9]*[A-Z]*','',s)\n",
    "    t = s.split('\\n')\n",
    "    t[0] = re.sub('\\(edited\\)','',t[0])\n",
    "    author.append(t[0])\n",
    "    s = \"\\n\".join(t[1:])\n",
    "    author_comment.append(s)\n",
    "  df = pd.DataFrame(author_comment,index=author,columns=[\"Comments\"])\n",
    "  return df\n",
    "author_comment = create_df_author_comments1(data)\n",
    "author_comment\n"
   ]
  },
  {
   "cell_type": "code",
   "execution_count": null,
   "id": "65ea08d9",
   "metadata": {},
   "outputs": [],
   "source": []
  },
  {
   "cell_type": "code",
   "execution_count": null,
   "id": "1ec99b6b",
   "metadata": {},
   "outputs": [],
   "source": []
  },
  {
   "cell_type": "code",
   "execution_count": null,
   "id": "d5267976",
   "metadata": {},
   "outputs": [],
   "source": []
  },
  {
   "cell_type": "code",
   "execution_count": null,
   "id": "215386b0",
   "metadata": {},
   "outputs": [],
   "source": []
  },
  {
   "cell_type": "code",
   "execution_count": null,
   "id": "271e03ba",
   "metadata": {},
   "outputs": [],
   "source": []
  }
 ],
 "metadata": {
  "kernelspec": {
   "display_name": "Python 3 (ipykernel)",
   "language": "python",
   "name": "python3"
  },
  "language_info": {
   "codemirror_mode": {
    "name": "ipython",
    "version": 3
   },
   "file_extension": ".py",
   "mimetype": "text/x-python",
   "name": "python",
   "nbconvert_exporter": "python",
   "pygments_lexer": "ipython3",
   "version": "3.10.2"
  }
 },
 "nbformat": 4,
 "nbformat_minor": 5
}
